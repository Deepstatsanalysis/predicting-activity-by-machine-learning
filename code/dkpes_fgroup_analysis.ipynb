{
 "cells": [
  {
   "cell_type": "code",
   "execution_count": 1,
   "metadata": {
    "collapsed": true
   },
   "outputs": [],
   "source": [
    "%matplotlib inline\n",
    "import pandas as pd\n",
    "import numpy as np\n",
    "import matplotlib.pyplot as plt"
   ]
  },
  {
   "cell_type": "code",
   "execution_count": 2,
   "metadata": {},
   "outputs": [
    {
     "data": {
      "text/html": [
       "<div>\n",
       "<style>\n",
       "    .dataframe thead tr:only-child th {\n",
       "        text-align: right;\n",
       "    }\n",
       "\n",
       "    .dataframe thead th {\n",
       "        text-align: left;\n",
       "    }\n",
       "\n",
       "    .dataframe tbody tr th {\n",
       "        vertical-align: top;\n",
       "    }\n",
       "</style>\n",
       "<table border=\"1\" class=\"dataframe\">\n",
       "  <thead>\n",
       "    <tr style=\"text-align: right;\">\n",
       "      <th></th>\n",
       "      <th>index</th>\n",
       "      <th>Signal-inhibition</th>\n",
       "      <th>3-Keto</th>\n",
       "      <th>3-Hydroxy</th>\n",
       "      <th>12-Keto</th>\n",
       "      <th>12-Hydroxy</th>\n",
       "      <th>19-Methyl</th>\n",
       "      <th>18-Methyl</th>\n",
       "      <th>Sulfate-Ester</th>\n",
       "      <th>Sulfate-Oxygens</th>\n",
       "      <th>...</th>\n",
       "      <th>FitTverskyCombo</th>\n",
       "      <th>FitTversky</th>\n",
       "      <th>FitColorTversky</th>\n",
       "      <th>RefTverskyCombo</th>\n",
       "      <th>RefTversky</th>\n",
       "      <th>RefColorTversky</th>\n",
       "      <th>ScaledColor</th>\n",
       "      <th>ComboScore</th>\n",
       "      <th>ColorScore</th>\n",
       "      <th>Overlap</th>\n",
       "    </tr>\n",
       "  </thead>\n",
       "  <tbody>\n",
       "    <tr>\n",
       "      <th>0</th>\n",
       "      <td>ENE4</td>\n",
       "      <td>0.905</td>\n",
       "      <td>1</td>\n",
       "      <td>0</td>\n",
       "      <td>0</td>\n",
       "      <td>1</td>\n",
       "      <td>1</td>\n",
       "      <td>1</td>\n",
       "      <td>1</td>\n",
       "      <td>3</td>\n",
       "      <td>...</td>\n",
       "      <td>1.624</td>\n",
       "      <td>0.932</td>\n",
       "      <td>0.692</td>\n",
       "      <td>1.811</td>\n",
       "      <td>0.951</td>\n",
       "      <td>0.860</td>\n",
       "      <td>0.872</td>\n",
       "      <td>1.761</td>\n",
       "      <td>-9.590</td>\n",
       "      <td>1286.317</td>\n",
       "    </tr>\n",
       "    <tr>\n",
       "      <th>1</th>\n",
       "      <td>ZINC72400307</td>\n",
       "      <td>0.904</td>\n",
       "      <td>0</td>\n",
       "      <td>0</td>\n",
       "      <td>0</td>\n",
       "      <td>1</td>\n",
       "      <td>1</td>\n",
       "      <td>1</td>\n",
       "      <td>1</td>\n",
       "      <td>3</td>\n",
       "      <td>...</td>\n",
       "      <td>1.401</td>\n",
       "      <td>0.888</td>\n",
       "      <td>0.513</td>\n",
       "      <td>1.579</td>\n",
       "      <td>0.901</td>\n",
       "      <td>0.678</td>\n",
       "      <td>0.691</td>\n",
       "      <td>1.499</td>\n",
       "      <td>-7.596</td>\n",
       "      <td>1218.799</td>\n",
       "    </tr>\n",
       "    <tr>\n",
       "      <th>2</th>\n",
       "      <td>ENE3</td>\n",
       "      <td>0.897</td>\n",
       "      <td>1</td>\n",
       "      <td>0</td>\n",
       "      <td>0</td>\n",
       "      <td>1</td>\n",
       "      <td>1</td>\n",
       "      <td>1</td>\n",
       "      <td>1</td>\n",
       "      <td>3</td>\n",
       "      <td>...</td>\n",
       "      <td>1.704</td>\n",
       "      <td>0.970</td>\n",
       "      <td>0.734</td>\n",
       "      <td>1.905</td>\n",
       "      <td>0.992</td>\n",
       "      <td>0.912</td>\n",
       "      <td>0.925</td>\n",
       "      <td>1.887</td>\n",
       "      <td>-10.171</td>\n",
       "      <td>1341.629</td>\n",
       "    </tr>\n",
       "    <tr>\n",
       "      <th>3</th>\n",
       "      <td>ENE1</td>\n",
       "      <td>0.893</td>\n",
       "      <td>1</td>\n",
       "      <td>0</td>\n",
       "      <td>1</td>\n",
       "      <td>0</td>\n",
       "      <td>1</td>\n",
       "      <td>1</td>\n",
       "      <td>1</td>\n",
       "      <td>3</td>\n",
       "      <td>...</td>\n",
       "      <td>1.822</td>\n",
       "      <td>0.976</td>\n",
       "      <td>0.846</td>\n",
       "      <td>1.985</td>\n",
       "      <td>1.002</td>\n",
       "      <td>0.983</td>\n",
       "      <td>0.992</td>\n",
       "      <td>1.970</td>\n",
       "      <td>-10.911</td>\n",
       "      <td>1357.732</td>\n",
       "    </tr>\n",
       "    <tr>\n",
       "      <th>4</th>\n",
       "      <td>ENE2</td>\n",
       "      <td>0.845</td>\n",
       "      <td>1</td>\n",
       "      <td>0</td>\n",
       "      <td>1</td>\n",
       "      <td>0</td>\n",
       "      <td>1</td>\n",
       "      <td>1</td>\n",
       "      <td>1</td>\n",
       "      <td>3</td>\n",
       "      <td>...</td>\n",
       "      <td>1.786</td>\n",
       "      <td>0.967</td>\n",
       "      <td>0.820</td>\n",
       "      <td>1.949</td>\n",
       "      <td>0.997</td>\n",
       "      <td>0.953</td>\n",
       "      <td>0.961</td>\n",
       "      <td>1.925</td>\n",
       "      <td>-10.574</td>\n",
       "      <td>1351.912</td>\n",
       "    </tr>\n",
       "    <tr>\n",
       "      <th>5</th>\n",
       "      <td>ZINC12494532</td>\n",
       "      <td>0.741</td>\n",
       "      <td>0</td>\n",
       "      <td>0</td>\n",
       "      <td>0</td>\n",
       "      <td>0</td>\n",
       "      <td>0</td>\n",
       "      <td>0</td>\n",
       "      <td>1</td>\n",
       "      <td>3</td>\n",
       "      <td>...</td>\n",
       "      <td>1.280</td>\n",
       "      <td>0.815</td>\n",
       "      <td>0.465</td>\n",
       "      <td>1.308</td>\n",
       "      <td>0.805</td>\n",
       "      <td>0.503</td>\n",
       "      <td>0.506</td>\n",
       "      <td>1.186</td>\n",
       "      <td>-5.562</td>\n",
       "      <td>1086.704</td>\n",
       "    </tr>\n",
       "    <tr>\n",
       "      <th>6</th>\n",
       "      <td>ZINC35044325</td>\n",
       "      <td>0.739</td>\n",
       "      <td>0</td>\n",
       "      <td>1</td>\n",
       "      <td>0</td>\n",
       "      <td>0</td>\n",
       "      <td>1</td>\n",
       "      <td>1</td>\n",
       "      <td>0</td>\n",
       "      <td>3</td>\n",
       "      <td>...</td>\n",
       "      <td>1.497</td>\n",
       "      <td>0.853</td>\n",
       "      <td>0.644</td>\n",
       "      <td>1.632</td>\n",
       "      <td>0.883</td>\n",
       "      <td>0.749</td>\n",
       "      <td>0.756</td>\n",
       "      <td>1.522</td>\n",
       "      <td>-8.312</td>\n",
       "      <td>1194.401</td>\n",
       "    </tr>\n",
       "    <tr>\n",
       "      <th>7</th>\n",
       "      <td>ZINC04095893</td>\n",
       "      <td>0.722</td>\n",
       "      <td>0</td>\n",
       "      <td>0</td>\n",
       "      <td>0</td>\n",
       "      <td>0</td>\n",
       "      <td>1</td>\n",
       "      <td>1</td>\n",
       "      <td>0</td>\n",
       "      <td>3</td>\n",
       "      <td>...</td>\n",
       "      <td>1.417</td>\n",
       "      <td>0.835</td>\n",
       "      <td>0.583</td>\n",
       "      <td>1.543</td>\n",
       "      <td>0.866</td>\n",
       "      <td>0.677</td>\n",
       "      <td>0.683</td>\n",
       "      <td>1.422</td>\n",
       "      <td>-7.515</td>\n",
       "      <td>1172.979</td>\n",
       "    </tr>\n",
       "    <tr>\n",
       "      <th>8</th>\n",
       "      <td>ZINC01532179</td>\n",
       "      <td>0.686</td>\n",
       "      <td>0</td>\n",
       "      <td>0</td>\n",
       "      <td>0</td>\n",
       "      <td>0</td>\n",
       "      <td>0</td>\n",
       "      <td>0</td>\n",
       "      <td>1</td>\n",
       "      <td>3</td>\n",
       "      <td>...</td>\n",
       "      <td>1.896</td>\n",
       "      <td>1.143</td>\n",
       "      <td>0.752</td>\n",
       "      <td>0.959</td>\n",
       "      <td>0.586</td>\n",
       "      <td>0.373</td>\n",
       "      <td>0.363</td>\n",
       "      <td>0.995</td>\n",
       "      <td>-3.988</td>\n",
       "      <td>770.823</td>\n",
       "    </tr>\n",
       "    <tr>\n",
       "      <th>9</th>\n",
       "      <td>ZINC70666191</td>\n",
       "      <td>0.627</td>\n",
       "      <td>0</td>\n",
       "      <td>0</td>\n",
       "      <td>0</td>\n",
       "      <td>1</td>\n",
       "      <td>1</td>\n",
       "      <td>1</td>\n",
       "      <td>0</td>\n",
       "      <td>0</td>\n",
       "      <td>...</td>\n",
       "      <td>1.278</td>\n",
       "      <td>0.851</td>\n",
       "      <td>0.427</td>\n",
       "      <td>1.489</td>\n",
       "      <td>0.925</td>\n",
       "      <td>0.564</td>\n",
       "      <td>0.574</td>\n",
       "      <td>1.371</td>\n",
       "      <td>-6.316</td>\n",
       "      <td>1256.029</td>\n",
       "    </tr>\n",
       "  </tbody>\n",
       "</table>\n",
       "<p>10 rows × 27 columns</p>\n",
       "</div>"
      ],
      "text/plain": [
       "          index  Signal-inhibition  3-Keto  3-Hydroxy  12-Keto  12-Hydroxy  \\\n",
       "0          ENE4              0.905       1          0        0           1   \n",
       "1  ZINC72400307              0.904       0          0        0           1   \n",
       "2          ENE3              0.897       1          0        0           1   \n",
       "3          ENE1              0.893       1          0        1           0   \n",
       "4          ENE2              0.845       1          0        1           0   \n",
       "5  ZINC12494532              0.741       0          0        0           0   \n",
       "6  ZINC35044325              0.739       0          1        0           0   \n",
       "7  ZINC04095893              0.722       0          0        0           0   \n",
       "8  ZINC01532179              0.686       0          0        0           0   \n",
       "9  ZINC70666191              0.627       0          0        0           1   \n",
       "\n",
       "   19-Methyl  18-Methyl  Sulfate-Ester  Sulfate-Oxygens    ...     \\\n",
       "0          1          1              1                3    ...      \n",
       "1          1          1              1                3    ...      \n",
       "2          1          1              1                3    ...      \n",
       "3          1          1              1                3    ...      \n",
       "4          1          1              1                3    ...      \n",
       "5          0          0              1                3    ...      \n",
       "6          1          1              0                3    ...      \n",
       "7          1          1              0                3    ...      \n",
       "8          0          0              1                3    ...      \n",
       "9          1          1              0                0    ...      \n",
       "\n",
       "   FitTverskyCombo  FitTversky  FitColorTversky RefTverskyCombo  RefTversky  \\\n",
       "0            1.624       0.932            0.692           1.811       0.951   \n",
       "1            1.401       0.888            0.513           1.579       0.901   \n",
       "2            1.704       0.970            0.734           1.905       0.992   \n",
       "3            1.822       0.976            0.846           1.985       1.002   \n",
       "4            1.786       0.967            0.820           1.949       0.997   \n",
       "5            1.280       0.815            0.465           1.308       0.805   \n",
       "6            1.497       0.853            0.644           1.632       0.883   \n",
       "7            1.417       0.835            0.583           1.543       0.866   \n",
       "8            1.896       1.143            0.752           0.959       0.586   \n",
       "9            1.278       0.851            0.427           1.489       0.925   \n",
       "\n",
       "   RefColorTversky  ScaledColor  ComboScore  ColorScore   Overlap  \n",
       "0            0.860        0.872       1.761      -9.590  1286.317  \n",
       "1            0.678        0.691       1.499      -7.596  1218.799  \n",
       "2            0.912        0.925       1.887     -10.171  1341.629  \n",
       "3            0.983        0.992       1.970     -10.911  1357.732  \n",
       "4            0.953        0.961       1.925     -10.574  1351.912  \n",
       "5            0.503        0.506       1.186      -5.562  1086.704  \n",
       "6            0.749        0.756       1.522      -8.312  1194.401  \n",
       "7            0.677        0.683       1.422      -7.515  1172.979  \n",
       "8            0.373        0.363       0.995      -3.988   770.823  \n",
       "9            0.564        0.574       1.371      -6.316  1256.029  \n",
       "\n",
       "[10 rows x 27 columns]"
      ]
     },
     "execution_count": 2,
     "metadata": {},
     "output_type": "execute_result"
    }
   ],
   "source": [
    "df = pd.read_csv('../data/csvs/dkpes.csv')\n",
    "df.head(10)"
   ]
  },
  {
   "cell_type": "code",
   "execution_count": 3,
   "metadata": {
    "collapsed": true
   },
   "outputs": [],
   "source": [
    "y = df['Signal-inhibition'].values\n",
    "fgroup_cols = ['3-Keto', '3-Hydroxy', '12-Keto',\n",
    "               '12-Hydroxy', '19-Methyl', '18-Methyl', 'Sulfate-Ester',\n",
    "               'Sulfate-Oxygens', 'C4-C5-DB', 'C6-C7-DB', 'Sulfur']\n",
    "X = df[fgroup_cols].values"
   ]
  },
  {
   "cell_type": "code",
   "execution_count": 4,
   "metadata": {},
   "outputs": [
    {
     "data": {
      "image/png": "[encoded data removed]",
      "text/plain": [
       "<matplotlib.figure.Figure at 0x10dc1c898>"
      ]
     },
     "metadata": {},
     "output_type": "display_data"
    }
   ],
   "source": [
    "fig, ax = plt.subplots(1, 2, figsize=(10, 3))\n",
    "\n",
    "ax[0].hist(y, bins=np.arange(0, 1.1, 0.1))\n",
    "ax[0].set_ylabel('Molecule count')\n",
    "ax[0].set_xlabel('Signal inhibition')\n",
    "ax[1].scatter(y, df['TanimotoCombo'].values)\n",
    "ax[1].set_ylabel('Tanimoto similarity')\n",
    "ax[1].set_xlabel('Signal inhibition')\n",
    "plt.show()"
   ]
  },
  {
   "cell_type": "code",
   "execution_count": 5,
   "metadata": {},
   "outputs": [
    {
     "name": "stdout",
     "output_type": "stream",
     "text": [
      "The top 10 most active compounds:\n"
     ]
    },
    {
     "data": {
      "text/plain": [
       "0            ENE4\n",
       "1    ZINC72400307\n",
       "2            ENE3\n",
       "3            ENE1\n",
       "4            ENE2\n",
       "5    ZINC12494532\n",
       "6    ZINC35044325\n",
       "7    ZINC04095893\n",
       "8    ZINC01532179\n",
       "9    ZINC70666191\n",
       "Name: index, dtype: object"
      ]
     },
     "execution_count": 5,
     "metadata": {},
     "output_type": "execute_result"
    }
   ],
   "source": [
    "print('The top 10 most active compounds:')\n",
    "df['index'][:10]"
   ]
  },
  {
   "cell_type": "code",
   "execution_count": 6,
   "metadata": {},
   "outputs": [
    {
     "name": "stdout",
     "output_type": "stream",
     "text": [
      "The top 10 least active compounds:\n"
     ]
    },
    {
     "data": {
      "text/plain": [
       "46    ZINC06036223\n",
       "47    ZINC59528245\n",
       "48    ZINC06036225\n",
       "49      16409-34-0\n",
       "50    ZINC03881406\n",
       "51    ZINC04025723\n",
       "52    ZINC04097469\n",
       "53    ZINC03876071\n",
       "54    ZINC40576706\n",
       "55    ZINC22058386\n",
       "Name: index, dtype: object"
      ]
     },
     "execution_count": 6,
     "metadata": {},
     "output_type": "execute_result"
    }
   ],
   "source": [
    "print('The top 10 least active compounds:')\n",
    "df['index'][-10:]"
   ]
  },
  {
   "cell_type": "code",
   "execution_count": 7,
   "metadata": {},
   "outputs": [
    {
     "data": {
      "image/png": "[encoded data removed]",
      "text/plain": [
       "<matplotlib.figure.Figure at 0x10dc1cb38>"
      ]
     },
     "metadata": {},
     "output_type": "display_data"
    }
   ],
   "source": [
    "fig, ax = plt.subplots(1, 2, figsize=(10, 3))\n",
    "\n",
    "ax[0].imshow(X[:10], cmap='binary')\n",
    "ax[0].set_title('10 most active molecules')\n",
    "plt.sca(ax[0])\n",
    "plt.xticks(range(len(fgroup_cols)), \n",
    "           fgroup_cols, rotation='vertical')\n",
    "plt.yticks(range(10), df['index'][:10])\n",
    "\n",
    "ax[1].imshow(X[-10:], cmap='binary')\n",
    "ax[1].set_title('10 least active molecules')\n",
    "plt.sca(ax[1])\n",
    "plt.xticks(range(len(fgroup_cols)),\n",
    "           fgroup_cols, rotation='vertical')\n",
    "plt.yticks(range(10), df['index'][-10:])\n",
    "\n",
    "plt.show()"
   ]
  },
  {
   "cell_type": "code",
   "execution_count": 8,
   "metadata": {},
   "outputs": [
    {
     "data": {
      "text/plain": [
       "12"
      ]
     },
     "execution_count": 8,
     "metadata": {},
     "output_type": "execute_result"
    }
   ],
   "source": [
    "y_binary = np.where(y >= 0.6, 1, 0)\n",
    "np.sum(y_binary)"
   ]
  },
  {
   "cell_type": "markdown",
   "metadata": {},
   "source": [
    "- install graphviz (http://www.graphviz.org)"
   ]
  },
  {
   "cell_type": "code",
   "execution_count": 9,
   "metadata": {},
   "outputs": [
    {
     "name": "stdout",
     "output_type": "stream",
     "text": [
      "Object `tree.DecisionTreeClassifier` not found.\n"
     ]
    }
   ],
   "source": [
    "tree.DecisionTreeClassifier?"
   ]
  },
  {
   "cell_type": "code",
   "execution_count": 10,
   "metadata": {},
   "outputs": [
    {
     "ename": "ModuleNotFoundError",
     "evalue": "No module named 'sklearn.externals.joblib.backports'",
     "output_type": "error",
     "traceback": [
      "\u001b[0;31m---------------------------------------------------------------------------\u001b[0m",
      "\u001b[0;31mModuleNotFoundError\u001b[0m                       Traceback (most recent call last)",
      "\u001b[0;32m<ipython-input-10-b414489d5efe>\u001b[0m in \u001b[0;36m<module>\u001b[0;34m()\u001b[0m\n\u001b[1;32m      1\u001b[0m \u001b[0;32mimport\u001b[0m \u001b[0mpydotplus\u001b[0m\u001b[0;34m\u001b[0m\u001b[0m\n\u001b[0;32m----> 2\u001b[0;31m \u001b[0;32mfrom\u001b[0m \u001b[0msklearn\u001b[0m \u001b[0;32mimport\u001b[0m \u001b[0mtree\u001b[0m\u001b[0;34m\u001b[0m\u001b[0m\n\u001b[0m\u001b[1;32m      3\u001b[0m \u001b[0;32mfrom\u001b[0m \u001b[0mIPython\u001b[0m\u001b[0;34m.\u001b[0m\u001b[0mdisplay\u001b[0m \u001b[0;32mimport\u001b[0m \u001b[0mImage\u001b[0m\u001b[0;34m\u001b[0m\u001b[0m\n\u001b[1;32m      4\u001b[0m \u001b[0;34m\u001b[0m\u001b[0m\n\u001b[1;32m      5\u001b[0m \u001b[0;34m\u001b[0m\u001b[0m\n",
      "\u001b[0;32m/Users/sebastian/miniconda3/lib/python3.6/site-packages/sklearn/__init__.py\u001b[0m in \u001b[0;36m<module>\u001b[0;34m()\u001b[0m\n\u001b[1;32m    127\u001b[0m \u001b[0;32melse\u001b[0m\u001b[0;34m:\u001b[0m\u001b[0;34m\u001b[0m\u001b[0m\n\u001b[1;32m    128\u001b[0m     \u001b[0;32mfrom\u001b[0m \u001b[0;34m.\u001b[0m \u001b[0;32mimport\u001b[0m \u001b[0m__check_build\u001b[0m\u001b[0;34m\u001b[0m\u001b[0m\n\u001b[0;32m--> 129\u001b[0;31m     \u001b[0;32mfrom\u001b[0m \u001b[0;34m.\u001b[0m\u001b[0mbase\u001b[0m \u001b[0;32mimport\u001b[0m \u001b[0mclone\u001b[0m\u001b[0;34m\u001b[0m\u001b[0m\n\u001b[0m\u001b[1;32m    130\u001b[0m     \u001b[0m__check_build\u001b[0m  \u001b[0;31m# avoid flakes unused variable error\u001b[0m\u001b[0;34m\u001b[0m\u001b[0m\n\u001b[1;32m    131\u001b[0m \u001b[0;34m\u001b[0m\u001b[0m\n",
      "\u001b[0;32m/Users/sebastian/miniconda3/lib/python3.6/site-packages/sklearn/base.py\u001b[0m in \u001b[0;36m<module>\u001b[0;34m()\u001b[0m\n\u001b[1;32m     10\u001b[0m \u001b[0;32mfrom\u001b[0m \u001b[0mscipy\u001b[0m \u001b[0;32mimport\u001b[0m \u001b[0msparse\u001b[0m\u001b[0;34m\u001b[0m\u001b[0m\n\u001b[1;32m     11\u001b[0m \u001b[0;32mfrom\u001b[0m \u001b[0;34m.\u001b[0m\u001b[0mexternals\u001b[0m \u001b[0;32mimport\u001b[0m \u001b[0msix\u001b[0m\u001b[0;34m\u001b[0m\u001b[0m\n\u001b[0;32m---> 12\u001b[0;31m \u001b[0;32mfrom\u001b[0m \u001b[0;34m.\u001b[0m\u001b[0mutils\u001b[0m\u001b[0;34m.\u001b[0m\u001b[0mfixes\u001b[0m \u001b[0;32mimport\u001b[0m \u001b[0msignature\u001b[0m\u001b[0;34m\u001b[0m\u001b[0m\n\u001b[0m\u001b[1;32m     13\u001b[0m \u001b[0;32mfrom\u001b[0m \u001b[0;34m.\u001b[0m \u001b[0;32mimport\u001b[0m \u001b[0m__version__\u001b[0m\u001b[0;34m\u001b[0m\u001b[0m\n\u001b[1;32m     14\u001b[0m \u001b[0;34m\u001b[0m\u001b[0m\n",
      "\u001b[0;32m/Users/sebastian/miniconda3/lib/python3.6/site-packages/sklearn/utils/__init__.py\u001b[0m in \u001b[0;36m<module>\u001b[0;34m()\u001b[0m\n\u001b[1;32m     15\u001b[0m                          check_symmetric)\n\u001b[1;32m     16\u001b[0m \u001b[0;32mfrom\u001b[0m \u001b[0;34m.\u001b[0m\u001b[0mclass_weight\u001b[0m \u001b[0;32mimport\u001b[0m \u001b[0mcompute_class_weight\u001b[0m\u001b[0;34m,\u001b[0m \u001b[0mcompute_sample_weight\u001b[0m\u001b[0;34m\u001b[0m\u001b[0m\n\u001b[0;32m---> 17\u001b[0;31m \u001b[0;32mfrom\u001b[0m \u001b[0;34m.\u001b[0m\u001b[0;34m.\u001b[0m\u001b[0mexternals\u001b[0m\u001b[0;34m.\u001b[0m\u001b[0mjoblib\u001b[0m \u001b[0;32mimport\u001b[0m \u001b[0mcpu_count\u001b[0m\u001b[0;34m\u001b[0m\u001b[0m\n\u001b[0m\u001b[1;32m     18\u001b[0m \u001b[0;32mfrom\u001b[0m \u001b[0;34m.\u001b[0m\u001b[0;34m.\u001b[0m\u001b[0mexceptions\u001b[0m \u001b[0;32mimport\u001b[0m \u001b[0mDataConversionWarning\u001b[0m\u001b[0;34m\u001b[0m\u001b[0m\n\u001b[1;32m     19\u001b[0m \u001b[0;32mfrom\u001b[0m \u001b[0;34m.\u001b[0m\u001b[0mdeprecation\u001b[0m \u001b[0;32mimport\u001b[0m \u001b[0mdeprecated\u001b[0m\u001b[0;34m\u001b[0m\u001b[0m\n",
      "\u001b[0;32m/Users/sebastian/miniconda3/lib/python3.6/site-packages/sklearn/externals/joblib/__init__.py\u001b[0m in \u001b[0;36m<module>\u001b[0;34m()\u001b[0m\n\u001b[1;32m    119\u001b[0m \u001b[0;34m\u001b[0m\u001b[0m\n\u001b[1;32m    120\u001b[0m \u001b[0;34m\u001b[0m\u001b[0m\n\u001b[0;32m--> 121\u001b[0;31m \u001b[0;32mfrom\u001b[0m \u001b[0;34m.\u001b[0m\u001b[0mmemory\u001b[0m \u001b[0;32mimport\u001b[0m \u001b[0mMemory\u001b[0m\u001b[0;34m,\u001b[0m \u001b[0mMemorizedResult\u001b[0m\u001b[0;34m\u001b[0m\u001b[0m\n\u001b[0m\u001b[1;32m    122\u001b[0m \u001b[0;32mfrom\u001b[0m \u001b[0;34m.\u001b[0m\u001b[0mlogger\u001b[0m \u001b[0;32mimport\u001b[0m \u001b[0mPrintTime\u001b[0m\u001b[0;34m\u001b[0m\u001b[0m\n\u001b[1;32m    123\u001b[0m \u001b[0;32mfrom\u001b[0m \u001b[0;34m.\u001b[0m\u001b[0mlogger\u001b[0m \u001b[0;32mimport\u001b[0m \u001b[0mLogger\u001b[0m\u001b[0;34m\u001b[0m\u001b[0m\n",
      "\u001b[0;32m/Users/sebastian/miniconda3/lib/python3.6/site-packages/sklearn/externals/joblib/memory.py\u001b[0m in \u001b[0;36m<module>\u001b[0;34m()\u001b[0m\n\u001b[1;32m     35\u001b[0m \u001b[0;32mfrom\u001b[0m \u001b[0;34m.\u001b[0m\u001b[0m_memory_helpers\u001b[0m \u001b[0;32mimport\u001b[0m \u001b[0mopen_py_source\u001b[0m\u001b[0;34m\u001b[0m\u001b[0m\n\u001b[1;32m     36\u001b[0m \u001b[0;32mfrom\u001b[0m \u001b[0;34m.\u001b[0m\u001b[0mlogger\u001b[0m \u001b[0;32mimport\u001b[0m \u001b[0mLogger\u001b[0m\u001b[0;34m,\u001b[0m \u001b[0mformat_time\u001b[0m\u001b[0;34m,\u001b[0m \u001b[0mpformat\u001b[0m\u001b[0;34m\u001b[0m\u001b[0m\n\u001b[0;32m---> 37\u001b[0;31m \u001b[0;32mfrom\u001b[0m \u001b[0;34m.\u001b[0m \u001b[0;32mimport\u001b[0m \u001b[0mnumpy_pickle\u001b[0m\u001b[0;34m\u001b[0m\u001b[0m\n\u001b[0m\u001b[1;32m     38\u001b[0m \u001b[0;32mfrom\u001b[0m \u001b[0;34m.\u001b[0m\u001b[0mdisk\u001b[0m \u001b[0;32mimport\u001b[0m \u001b[0mmkdirp\u001b[0m\u001b[0;34m,\u001b[0m \u001b[0mrm_subdirs\u001b[0m\u001b[0;34m,\u001b[0m \u001b[0mmemstr_to_bytes\u001b[0m\u001b[0;34m\u001b[0m\u001b[0m\n\u001b[1;32m     39\u001b[0m \u001b[0;32mfrom\u001b[0m \u001b[0;34m.\u001b[0m\u001b[0m_compat\u001b[0m \u001b[0;32mimport\u001b[0m \u001b[0m_basestring\u001b[0m\u001b[0;34m,\u001b[0m \u001b[0mPY3_OR_LATER\u001b[0m\u001b[0;34m\u001b[0m\u001b[0m\n",
      "\u001b[0;32m/Users/sebastian/miniconda3/lib/python3.6/site-packages/sklearn/externals/joblib/numpy_pickle.py\u001b[0m in \u001b[0;36m<module>\u001b[0;34m()\u001b[0m\n\u001b[1;32m     27\u001b[0m \u001b[0;32mfrom\u001b[0m \u001b[0;34m.\u001b[0m\u001b[0mnumpy_pickle_compat\u001b[0m \u001b[0;32mimport\u001b[0m \u001b[0mZNDArrayWrapper\u001b[0m  \u001b[0;31m# noqa\u001b[0m\u001b[0;34m\u001b[0m\u001b[0m\n\u001b[1;32m     28\u001b[0m \u001b[0;32mfrom\u001b[0m \u001b[0;34m.\u001b[0m\u001b[0m_compat\u001b[0m \u001b[0;32mimport\u001b[0m \u001b[0m_basestring\u001b[0m\u001b[0;34m,\u001b[0m \u001b[0mPY3_OR_LATER\u001b[0m\u001b[0;34m\u001b[0m\u001b[0m\n\u001b[0;32m---> 29\u001b[0;31m \u001b[0;32mfrom\u001b[0m \u001b[0;34m.\u001b[0m\u001b[0mbackports\u001b[0m \u001b[0;32mimport\u001b[0m \u001b[0mmake_memmap\u001b[0m\u001b[0;34m\u001b[0m\u001b[0m\n\u001b[0m\u001b[1;32m     30\u001b[0m \u001b[0;34m\u001b[0m\u001b[0m\n\u001b[1;32m     31\u001b[0m \u001b[0;31m###############################################################################\u001b[0m\u001b[0;34m\u001b[0m\u001b[0;34m\u001b[0m\u001b[0m\n",
      "\u001b[0;31mModuleNotFoundError\u001b[0m: No module named 'sklearn.externals.joblib.backports'"
     ]
    }
   ],
   "source": [
    "import pydotplus \n",
    "from sklearn import tree\n",
    "from IPython.display import Image  \n",
    "\n",
    "\n",
    "clf = tree.DecisionTreeClassifier()\n",
    "clf = clf.fit(X, y_binary)\n",
    "\n",
    "dot_data = tree.export_graphviz(clf, out_file=None,\n",
    "                                feature_names=fgroup_cols,\n",
    "                                class_names=['non-active', 'active'],\n",
    "                                filled=True, rounded=True)\n",
    "graph = pydotplus.graph_from_dot_data(dot_data)\n",
    "graph.write_pdf(\"tree.pdf\") \n",
    "Image(graph.create_png())  "
   ]
  },
  {
   "cell_type": "code",
   "execution_count": null,
   "metadata": {},
   "outputs": [],
   "source": [
    "from sklearn.ensemble import RandomForestClassifier\n",
    "\n",
    "forest = RandomForestClassifier(n_estimators=1000,\n",
    "                                random_state=0,\n",
    "                                n_jobs=-1)\n",
    "\n",
    "forest.fit(X, y_binary)\n",
    "importances = forest.feature_importances_\n",
    "\n",
    "indices = np.argsort(importances)[::-1]\n",
    "feature_labels = np.array(fgroup_cols)\n",
    "\n",
    "for f in range(X.shape[1]):\n",
    "    print(\"%2d) %-*s %f\" % (f + 1, 30, \n",
    "                            feature_labels[indices[f]], \n",
    "                            importances[indices[f]]))\n",
    "\n",
    "plt.bar(range(X.shape[1]), \n",
    "        importances[indices],\n",
    "        align='center')\n",
    "\n",
    "plt.xticks(range(X.shape[1]), \n",
    "           feature_labels[indices], rotation=90)\n",
    "plt.xlim([-1, X.shape[1]])\n",
    "plt.ylabel('Relative feature importance')\n",
    "plt.tight_layout()\n",
    "#plt.savefig('./random_forest.png', dpi=300)\n",
    "plt.show()"
   ]
  },
  {
   "cell_type": "code",
   "execution_count": null,
   "metadata": {},
   "outputs": [],
   "source": [
    "from mlxtend.feature_selection import SequentialFeatureSelector as SFS\n",
    "from mlxtend.plotting import plot_sequential_feature_selection as plot_sfs\n",
    "from sklearn.linear_model import LogisticRegression\n",
    "\n",
    "classifier = LogisticRegression()\n",
    "\n",
    "sfs = SFS(classifier, \n",
    "          k_features=1, \n",
    "          forward=False, \n",
    "          floating=False, \n",
    "          scoring='accuracy',\n",
    "          verbose=0,\n",
    "          cv=5)\n",
    "\n",
    "sfs = sfs.fit(X, y_binary)\n",
    "\n",
    "fig1 = plot_sfs(sfs.get_metric_dict(), kind='std_err')\n",
    "\n",
    "plt.ylim([0.5, 1])\n",
    "plt.ylabel('Accuracy')\n",
    "plt.xlabel('Number of features in the selected subset')\n",
    "plt.grid()\n",
    "plt.show()"
   ]
  },
  {
   "cell_type": "code",
   "execution_count": null,
   "metadata": {},
   "outputs": [],
   "source": [
    "sfs.subsets_[2]"
   ]
  },
  {
   "cell_type": "code",
   "execution_count": null,
   "metadata": {},
   "outputs": [],
   "source": [
    "sfs.subsets_[2]['feature_idx']"
   ]
  },
  {
   "cell_type": "code",
   "execution_count": null,
   "metadata": {},
   "outputs": [],
   "source": [
    "feature_labels[list(sfs.subsets_[2]['feature_idx'])]"
   ]
  }
 ],
 "metadata": {
  "kernelspec": {
   "display_name": "Python 3",
   "language": "python",
   "name": "python3"
  },
  "language_info": {
   "codemirror_mode": {
    "name": "ipython",
    "version": 3
   },
   "file_extension": ".py",
   "mimetype": "text/x-python",
   "name": "python",
   "nbconvert_exporter": "python",
   "pygments_lexer": "ipython3",
   "version": "3.6.1"
  }
 },
 "nbformat": 4,
 "nbformat_minor": 2
}
